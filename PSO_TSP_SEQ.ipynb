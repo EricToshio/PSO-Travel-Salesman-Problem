{
 "cells": [
  {
   "cell_type": "markdown",
   "metadata": {},
   "source": [
    "# Libs"
   ]
  },
  {
   "cell_type": "code",
   "execution_count": 1,
   "metadata": {},
   "outputs": [],
   "source": [
    "from itertools import combinations\n",
    "import random\n",
    "from abc import ABC, abstractmethod \n",
    "import copy\n",
    "import numpy as np\n",
    "import matplotlib.pyplot as plt\n",
    "import time "
   ]
  },
  {
   "cell_type": "markdown",
   "metadata": {},
   "source": [
    "# Constants"
   ]
  },
  {
   "cell_type": "code",
   "execution_count": 2,
   "metadata": {},
   "outputs": [],
   "source": [
    "NUMBER_OF_ITERATIONS = 100\n",
    "NUMBER_OF_PARTICLES = 60\n",
    "NUMBER_OF_CITIES = 12 \n",
    "SAMPLE_RATE = 2"
   ]
  },
  {
   "cell_type": "markdown",
   "metadata": {},
   "source": [
    "# Generate cities"
   ]
  },
  {
   "cell_type": "code",
   "execution_count": 3,
   "metadata": {},
   "outputs": [],
   "source": [
    "cities = []\n",
    "x = 0\n",
    "y = 0\n",
    "for i in range(NUMBER_OF_CITIES):\n",
    "  if i % 2 == 0:\n",
    "    cities.append((\"\", (x,y)))\n",
    "  else:\n",
    "    cities.append((\"\", (x, y+1)))\n",
    "    x += 1"
   ]
  },
  {
   "cell_type": "markdown",
   "metadata": {},
   "source": [
    "# Utils"
   ]
  },
  {
   "cell_type": "code",
   "execution_count": 4,
   "metadata": {
    "colab": {
     "base_uri": "https://localhost:8080/",
     "height": 374
    },
    "colab_type": "code",
    "id": "ZWKbJnxSzBJp",
    "outputId": "ad224856-98ca-4401-d73d-a5ab85ea603a"
   },
   "outputs": [],
   "source": [
    "\n",
    "x = []\n",
    "y = []\n",
    "\n",
    "def fitness(state):\n",
    "    total = 0\n",
    "    for i in range(len(state)-1):\n",
    "        a = state[i+1] - 1\n",
    "        b = state[i] - 1\n",
    "        cityPosition1 = cities[a][1]\n",
    "        cityPosition2 = cities[b][1]\n",
    "        dist = (cityPosition1[0] - cityPosition2[0])**2 + (cityPosition1[1] - cityPosition2[1])**2\n",
    "        total += dist \n",
    "    a = state[0] - 1\n",
    "    b = state[-1] - 1\n",
    "    cityPosition1 = cities[a][1]\n",
    "    cityPosition2 = cities[b][1]\n",
    "    dist = (cityPosition1[0] - cityPosition2[0])**2 + (cityPosition1[1] - cityPosition2[1])**2\n",
    "    total += dist\n",
    "    return total\n",
    "\n",
    "def generateRandomPosition(N):\n",
    "    l = [c+1 for c in range(N)]\n",
    "    position = []\n",
    "    for j in range(N):\n",
    "        indexChosen = random.randint(0,len(l)-1)\n",
    "        position.append(l[indexChosen])\n",
    "        del l[indexChosen]\n",
    "    return position\n",
    "\n",
    "def generateRandomSwap(N):\n",
    "    numOfSwaps = random.randint(1,N//2)\n",
    "    swaps = []\n",
    "    for _ in range(numOfSwaps):\n",
    "        i = random.randint(0,N-1)\n",
    "        j = random.randint(0,N-1)\n",
    "        swaps.append((i,j))\n",
    "    return swaps\n",
    "\n"
   ]
  },
  {
   "cell_type": "markdown",
   "metadata": {},
   "source": [
    "# Position and velocity"
   ]
  },
  {
   "cell_type": "code",
   "execution_count": 5,
   "metadata": {},
   "outputs": [],
   "source": [
    "class DiscreteDimension(ABC):\n",
    "    def __init__(self):\n",
    "        pass\n",
    "        type = None\n",
    "        values = None\n",
    "    \n",
    "    def __add__(self, other):\n",
    "        if self.type == 'position' and other.type == 'velocity':\n",
    "            returnObj = copy.deepcopy(self)\n",
    "            for swap in other.values:\n",
    "                i,j = swap\n",
    "                returnObj.values[i], returnObj.values[j] = returnObj.values[j], returnObj.values[i]\n",
    "            return returnObj\n",
    "        \n",
    "        if self.type == 'velocity' and other.type == 'position':\n",
    "            returnObj = copy.deepcopy(other)\n",
    "            for swap in self.values:\n",
    "                i,j = swap\n",
    "                returnObj.values[i], returnObj.values[j] = returnObj.values[j], returnObj.values[i]\n",
    "            return returnObj\n",
    "        \n",
    "        if self.type == 'velocity' and other.type == 'velocity':\n",
    "            returnObj = copy.deepcopy(self)\n",
    "            returnObj.values.extend(other.values)\n",
    "            return returnObj\n",
    "        \n",
    "        print(\"DiscreteDimension(Class): operation not specified\")\n",
    "        return \n",
    "    \n",
    "    def __sub__(self, other):\n",
    "        if self.type == 'position' and self.type == 'position':\n",
    "            returnObj = copy.deepcopy(self)\n",
    "            returnObj.values = []\n",
    "            returnObj.type = 'velocity'\n",
    "            auxObj = copy.deepcopy(other)\n",
    "            for i in range(len(self.values)):\n",
    "                if auxObj.values[i] != self.values[i]:\n",
    "                    j = auxObj.values.index(self.values[i])\n",
    "                    swap = (i,j)\n",
    "                    returnObj.values.append(swap)\n",
    "                    auxObj.values[i], auxObj.values[j] = auxObj.values[j], auxObj.values[i]\n",
    "            return returnObj\n",
    "\n",
    "    def __rmul__(self, other):\n",
    "        if self.type == 'velocity':\n",
    "            if other < 0:\n",
    "                print(\"DiscreteDimension(Class): operation not specified: multiplication by negative number\")\n",
    "                return \n",
    "            if other > 1:\n",
    "                returnObj = copy.deepcopy(self)\n",
    "                integerPart = int(other)\n",
    "                fracPart = int(other*10)%10\n",
    "                returnObj.values = returnObj.values * integerPart\n",
    "                returnObj.values.extend(self.values[:fracPart])\n",
    "                return returnObj\n",
    "            if other == 0:\n",
    "                returnObj = copy.deepcopy(self)\n",
    "                returnObj.values = []\n",
    "                return returnObj\n",
    "            \n",
    "            fracPart = int(other*10)%10\n",
    "            returnObj = copy.deepcopy(self)\n",
    "            returnObj.values = returnObj.values[:fracPart]\n",
    "            return returnObj\n",
    "    \n",
    "    def __str__(self):\n",
    "        return f\"{self.values}, type={self.type}\"\n",
    "\n",
    "\n",
    "class Position(DiscreteDimension):\n",
    "    def __init__(self):\n",
    "        DiscreteDimension.__init__(self)\n",
    "        self.type = 'position'\n",
    "        self.values = []\n",
    "\n",
    "class Velocity(DiscreteDimension):\n",
    "    def __init__(self):\n",
    "        DiscreteDimension.__init__(self)\n",
    "        self.type = 'velocity'\n",
    "        self.values = []\n",
    "\n"
   ]
  },
  {
   "cell_type": "markdown",
   "metadata": {},
   "source": [
    "# Particle"
   ]
  },
  {
   "cell_type": "code",
   "execution_count": 6,
   "metadata": {},
   "outputs": [],
   "source": [
    "class Particle:\n",
    "    def __init__(self, N):\n",
    "        self.N = N\n",
    "        self.position = Position()\n",
    "        self.position.values = generateRandomPosition(N)\n",
    "        self.velocity = Velocity()\n",
    "        self.velocity.values = generateRandomSwap(N)\n",
    "        self.pbest = (self.position, fitness(self.position.values))\n",
    "        self.omega = 0.3\n",
    "        self.alfa = 1.1\n",
    "        self.beta = 2.5\n",
    "    \n",
    "    def update(self, gbest):\n",
    "        self.r1 = random.uniform(0,1)\n",
    "        self.r2 = random.uniform(0,1)\n",
    "        \n",
    "        inertiaFactor = self.omega*self.velocity\n",
    "        cognitiveFactor = self.alfa*self.r1*(self.pbest[0] - self.position)\n",
    "        socialFactor = self.beta*self.r2*(gbest - self.position)\n",
    "        \n",
    "        self.velocity = inertiaFactor + cognitiveFactor + socialFactor\n",
    "        self.position = self.position + self.velocity\n",
    "\n",
    "        if fitness(self.position.values) < self.pbest[1]:\n",
    "            self.pbest = (self.position, fitness(self.position.values))"
   ]
  },
  {
   "cell_type": "markdown",
   "metadata": {},
   "source": [
    "# TSPSolver"
   ]
  },
  {
   "cell_type": "code",
   "execution_count": 7,
   "metadata": {},
   "outputs": [],
   "source": [
    "\n",
    "class TSPSolver:\n",
    "    def __init__(self, numberOfCities):\n",
    "        self.solution = None\n",
    "        self.numberOfParticles = NUMBER_OF_PARTICLES\n",
    "        self.swarm = [Particle(numberOfCities) for _ in range(self.numberOfParticles)]\n",
    "        self.iteration = 0\n",
    "\n",
    "    def solve(self):\n",
    "        gBestPosition = Position()\n",
    "        gBestPosition.values = self.swarm[0].position.values\n",
    "        gbest = (gBestPosition, self.swarm[0].pbest[1])\n",
    "        gbest = self.updateGBest(gbest)\n",
    "\n",
    "        i = 0\n",
    "        while i < NUMBER_OF_ITERATIONS:\n",
    "            self.iteration += 1\n",
    "            i += 1\n",
    "            for p in self.swarm:\n",
    "                p.update(gbest[0])\n",
    "            gbest = self.updateGBest(gbest)\n",
    "            if self.iteration % SAMPLE_RATE == 0:\n",
    "              x.append(self.iteration)\n",
    "              y.append(gbest[1])\n",
    "        \n",
    "        self.solution = gbest[0].values\n",
    "        #print(gbest[1], self.iteration, self.solution)\n",
    "        #plt.plot(x,y)\n",
    "    \n",
    "    def converged(self, gbest):\n",
    "      majority = len(self.swarm) // 2 + 1\n",
    "      gbest_v = gbest[1]\n",
    "      cont = 0\n",
    "      for i in self.swarm:\n",
    "        if i.pbest[1] == gbest_v:\n",
    "          cont += 1\n",
    "      return cont >= majority and gbest_v == NUMBER_OF_CITIES\n",
    "    \n",
    "    def updateGBest(self, gbestValue):\n",
    "        gbest = gbestValue\n",
    "        for p in self.swarm:\n",
    "            if p.pbest[1] < gbest[1]:\n",
    "                gbest = (p.pbest[0],p.pbest[1])\n",
    "        \n",
    "        return gbest\n",
    "    \n",
    "    def getSolution(self):\n",
    "        return self.solution\n",
    "\n"
   ]
  },
  {
   "cell_type": "markdown",
   "metadata": {},
   "source": [
    "# Main"
   ]
  },
  {
   "cell_type": "code",
   "execution_count": 8,
   "metadata": {},
   "outputs": [
    {
     "name": "stdout",
     "output_type": "stream",
     "text": [
      "Time taked to run 100 iterations: 1.7058019638061523\n"
     ]
    }
   ],
   "source": [
    "# Generate TSPSolver object\n",
    "tsp = TSPSolver(NUMBER_OF_CITIES)\n",
    "\n",
    "# Start timer\n",
    "start = time.time()\n",
    "\n",
    "# Run 100 iterations\n",
    "tsp.solve()\n",
    "\n",
    "# Finish timer\n",
    "end = time.time()\n",
    "\n",
    "# Show results \n",
    "print(\"Time taked to run 100 iterations:\", end - start)"
   ]
  }
 ],
 "metadata": {
  "file_extension": ".py",
  "kernelspec": {
   "display_name": "PySpark",
   "language": "python",
   "name": "pyspark"
  },
  "language_info": {
   "codemirror_mode": {
    "name": "ipython",
    "version": 3
   },
   "file_extension": ".py",
   "mimetype": "text/x-python",
   "name": "python",
   "nbconvert_exporter": "python",
   "pygments_lexer": "ipython3",
   "version": "3.7.3"
  },
  "mimetype": "text/x-python",
  "name": "python",
  "npconvert_exporter": "python",
  "pygments_lexer": "ipython3",
  "version": 3
 },
 "nbformat": 4,
 "nbformat_minor": 2
}